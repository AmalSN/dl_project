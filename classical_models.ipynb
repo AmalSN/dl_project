{
 "cells": [
  {
   "cell_type": "code",
   "execution_count": 1,
   "metadata": {
    "id": "5-BAxD394qCA"
   },
   "outputs": [],
   "source": [
    "import pandas as pd\n",
    "import nltk\n",
    "import re\n",
    "import string\n",
    "\n",
    "from nltk.corpus import stopwords\n",
    "from nltk.tokenize import word_tokenize\n",
    "from nltk.stem import WordNetLemmatizer\n",
    "\n",
    "from sklearn.feature_extraction.text import TfidfVectorizer\n",
    "from sklearn.preprocessing import LabelEncoder"
   ]
  },
  {
   "cell_type": "code",
   "execution_count": 2,
   "metadata": {
    "id": "T6h8SKkU4u6f"
   },
   "outputs": [],
   "source": [
    "# nltk.download('punkt')\n",
    "# nltk.download('stopwords')\n",
    "# nltk.download('wordnet')"
   ]
  },
  {
   "cell_type": "code",
   "execution_count": 3,
   "metadata": {
    "colab": {
     "base_uri": "https://localhost:8080/"
    },
    "id": "pJkcSEsh4u33",
    "outputId": "2951e7b4-2d59-4323-9d60-27a616a5f909"
   },
   "outputs": [
    {
     "name": "stderr",
     "output_type": "stream",
     "text": [
      "[nltk_data] Downloading collection 'all'\n",
      "[nltk_data]    | \n",
      "[nltk_data]    | Downloading package abc to /home/amalsn/nltk_data...\n",
      "[nltk_data]    |   Unzipping corpora/abc.zip.\n",
      "[nltk_data]    | Downloading package alpino to\n",
      "[nltk_data]    |     /home/amalsn/nltk_data...\n",
      "[nltk_data]    |   Unzipping corpora/alpino.zip.\n",
      "[nltk_data]    | Downloading package averaged_perceptron_tagger to\n",
      "[nltk_data]    |     /home/amalsn/nltk_data...\n",
      "[nltk_data]    |   Unzipping taggers/averaged_perceptron_tagger.zip.\n",
      "[nltk_data]    | Downloading package averaged_perceptron_tagger_eng to\n",
      "[nltk_data]    |     /home/amalsn/nltk_data...\n",
      "[nltk_data]    |   Unzipping\n",
      "[nltk_data]    |       taggers/averaged_perceptron_tagger_eng.zip.\n",
      "[nltk_data]    | Downloading package averaged_perceptron_tagger_ru to\n",
      "[nltk_data]    |     /home/amalsn/nltk_data...\n",
      "[nltk_data]    |   Unzipping\n",
      "[nltk_data]    |       taggers/averaged_perceptron_tagger_ru.zip.\n",
      "[nltk_data]    | Downloading package averaged_perceptron_tagger_rus to\n",
      "[nltk_data]    |     /home/amalsn/nltk_data...\n",
      "[nltk_data]    |   Unzipping\n",
      "[nltk_data]    |       taggers/averaged_perceptron_tagger_rus.zip.\n",
      "[nltk_data]    | Downloading package basque_grammars to\n",
      "[nltk_data]    |     /home/amalsn/nltk_data...\n",
      "[nltk_data]    |   Unzipping grammars/basque_grammars.zip.\n",
      "[nltk_data]    | Downloading package bcp47 to\n",
      "[nltk_data]    |     /home/amalsn/nltk_data...\n",
      "[nltk_data]    | Downloading package biocreative_ppi to\n",
      "[nltk_data]    |     /home/amalsn/nltk_data...\n",
      "[nltk_data]    |   Unzipping corpora/biocreative_ppi.zip.\n",
      "[nltk_data]    | Downloading package bllip_wsj_no_aux to\n",
      "[nltk_data]    |     /home/amalsn/nltk_data...\n",
      "[nltk_data]    |   Unzipping models/bllip_wsj_no_aux.zip.\n",
      "[nltk_data]    | Downloading package book_grammars to\n",
      "[nltk_data]    |     /home/amalsn/nltk_data...\n",
      "[nltk_data]    |   Unzipping grammars/book_grammars.zip.\n",
      "[nltk_data]    | Downloading package brown to\n",
      "[nltk_data]    |     /home/amalsn/nltk_data...\n",
      "[nltk_data]    |   Unzipping corpora/brown.zip.\n",
      "[nltk_data]    | Downloading package brown_tei to\n",
      "[nltk_data]    |     /home/amalsn/nltk_data...\n",
      "[nltk_data]    |   Unzipping corpora/brown_tei.zip.\n",
      "[nltk_data]    | Downloading package cess_cat to\n",
      "[nltk_data]    |     /home/amalsn/nltk_data...\n",
      "[nltk_data]    |   Unzipping corpora/cess_cat.zip.\n",
      "[nltk_data]    | Downloading package cess_esp to\n",
      "[nltk_data]    |     /home/amalsn/nltk_data...\n",
      "[nltk_data]    |   Unzipping corpora/cess_esp.zip.\n",
      "[nltk_data]    | Downloading package chat80 to\n",
      "[nltk_data]    |     /home/amalsn/nltk_data...\n",
      "[nltk_data]    |   Unzipping corpora/chat80.zip.\n",
      "[nltk_data]    | Downloading package city_database to\n",
      "[nltk_data]    |     /home/amalsn/nltk_data...\n",
      "[nltk_data]    |   Unzipping corpora/city_database.zip.\n",
      "[nltk_data]    | Downloading package cmudict to\n",
      "[nltk_data]    |     /home/amalsn/nltk_data...\n",
      "[nltk_data]    |   Unzipping corpora/cmudict.zip.\n",
      "[nltk_data]    | Downloading package comparative_sentences to\n",
      "[nltk_data]    |     /home/amalsn/nltk_data...\n",
      "[nltk_data]    |   Unzipping corpora/comparative_sentences.zip.\n",
      "[nltk_data]    | Downloading package comtrans to\n",
      "[nltk_data]    |     /home/amalsn/nltk_data...\n",
      "[nltk_data]    | Downloading package conll2000 to\n",
      "[nltk_data]    |     /home/amalsn/nltk_data...\n",
      "[nltk_data]    |   Unzipping corpora/conll2000.zip.\n",
      "[nltk_data]    | Downloading package conll2002 to\n",
      "[nltk_data]    |     /home/amalsn/nltk_data...\n",
      "[nltk_data]    |   Unzipping corpora/conll2002.zip.\n",
      "[nltk_data]    | Downloading package conll2007 to\n",
      "[nltk_data]    |     /home/amalsn/nltk_data...\n",
      "[nltk_data]    | Downloading package crubadan to\n",
      "[nltk_data]    |     /home/amalsn/nltk_data...\n",
      "[nltk_data]    |   Unzipping corpora/crubadan.zip.\n",
      "[nltk_data]    | Downloading package dependency_treebank to\n",
      "[nltk_data]    |     /home/amalsn/nltk_data...\n",
      "[nltk_data]    |   Unzipping corpora/dependency_treebank.zip.\n",
      "[nltk_data]    | Downloading package dolch to\n",
      "[nltk_data]    |     /home/amalsn/nltk_data...\n",
      "[nltk_data]    |   Unzipping corpora/dolch.zip.\n",
      "[nltk_data]    | Downloading package english_wordnet to\n",
      "[nltk_data]    |     /home/amalsn/nltk_data...\n",
      "[nltk_data]    |   Unzipping corpora/english_wordnet.zip.\n",
      "[nltk_data]    | Downloading package europarl_raw to\n",
      "[nltk_data]    |     /home/amalsn/nltk_data...\n",
      "[nltk_data]    |   Unzipping corpora/europarl_raw.zip.\n",
      "[nltk_data]    | Downloading package extended_omw to\n",
      "[nltk_data]    |     /home/amalsn/nltk_data...\n",
      "[nltk_data]    | Downloading package floresta to\n",
      "[nltk_data]    |     /home/amalsn/nltk_data...\n",
      "[nltk_data]    |   Unzipping corpora/floresta.zip.\n",
      "[nltk_data]    | Downloading package framenet_v15 to\n",
      "[nltk_data]    |     /home/amalsn/nltk_data...\n",
      "[nltk_data]    |   Unzipping corpora/framenet_v15.zip.\n",
      "[nltk_data]    | Downloading package framenet_v17 to\n",
      "[nltk_data]    |     /home/amalsn/nltk_data...\n",
      "[nltk_data]    |   Unzipping corpora/framenet_v17.zip.\n",
      "[nltk_data]    | Downloading package gazetteers to\n",
      "[nltk_data]    |     /home/amalsn/nltk_data...\n",
      "[nltk_data]    |   Unzipping corpora/gazetteers.zip.\n",
      "[nltk_data]    | Downloading package genesis to\n",
      "[nltk_data]    |     /home/amalsn/nltk_data...\n",
      "[nltk_data]    |   Unzipping corpora/genesis.zip.\n",
      "[nltk_data]    | Downloading package gutenberg to\n",
      "[nltk_data]    |     /home/amalsn/nltk_data...\n",
      "[nltk_data]    |   Unzipping corpora/gutenberg.zip.\n",
      "[nltk_data]    | Downloading package ieer to /home/amalsn/nltk_data...\n",
      "[nltk_data]    |   Unzipping corpora/ieer.zip.\n",
      "[nltk_data]    | Downloading package inaugural to\n",
      "[nltk_data]    |     /home/amalsn/nltk_data...\n",
      "[nltk_data]    |   Unzipping corpora/inaugural.zip.\n",
      "[nltk_data]    | Downloading package indian to\n",
      "[nltk_data]    |     /home/amalsn/nltk_data...\n",
      "[nltk_data]    |   Unzipping corpora/indian.zip.\n",
      "[nltk_data]    | Downloading package jeita to\n",
      "[nltk_data]    |     /home/amalsn/nltk_data...\n",
      "[nltk_data]    | Downloading package kimmo to\n",
      "[nltk_data]    |     /home/amalsn/nltk_data...\n",
      "[nltk_data]    |   Unzipping corpora/kimmo.zip.\n",
      "[nltk_data]    | Downloading package knbc to /home/amalsn/nltk_data...\n",
      "[nltk_data]    | Downloading package large_grammars to\n",
      "[nltk_data]    |     /home/amalsn/nltk_data...\n",
      "[nltk_data]    |   Unzipping grammars/large_grammars.zip.\n",
      "[nltk_data]    | Downloading package lin_thesaurus to\n",
      "[nltk_data]    |     /home/amalsn/nltk_data...\n",
      "[nltk_data]    |   Unzipping corpora/lin_thesaurus.zip.\n",
      "[nltk_data]    | Downloading package mac_morpho to\n",
      "[nltk_data]    |     /home/amalsn/nltk_data...\n",
      "[nltk_data]    |   Unzipping corpora/mac_morpho.zip.\n",
      "[nltk_data]    | Downloading package machado to\n",
      "[nltk_data]    |     /home/amalsn/nltk_data...\n",
      "[nltk_data]    | Downloading package masc_tagged to\n",
      "[nltk_data]    |     /home/amalsn/nltk_data...\n",
      "[nltk_data]    | Downloading package maxent_ne_chunker to\n",
      "[nltk_data]    |     /home/amalsn/nltk_data...\n",
      "[nltk_data]    |   Unzipping chunkers/maxent_ne_chunker.zip.\n",
      "[nltk_data]    | Downloading package maxent_ne_chunker_tab to\n",
      "[nltk_data]    |     /home/amalsn/nltk_data...\n",
      "[nltk_data]    |   Unzipping chunkers/maxent_ne_chunker_tab.zip.\n",
      "[nltk_data]    | Downloading package maxent_treebank_pos_tagger to\n",
      "[nltk_data]    |     /home/amalsn/nltk_data...\n",
      "[nltk_data]    |   Unzipping taggers/maxent_treebank_pos_tagger.zip.\n",
      "[nltk_data]    | Downloading package maxent_treebank_pos_tagger_tab to\n",
      "[nltk_data]    |     /home/amalsn/nltk_data...\n",
      "[nltk_data]    |   Unzipping\n",
      "[nltk_data]    |       taggers/maxent_treebank_pos_tagger_tab.zip.\n",
      "[nltk_data]    | Downloading package moses_sample to\n",
      "[nltk_data]    |     /home/amalsn/nltk_data...\n",
      "[nltk_data]    |   Unzipping models/moses_sample.zip.\n",
      "[nltk_data]    | Downloading package movie_reviews to\n",
      "[nltk_data]    |     /home/amalsn/nltk_data...\n",
      "[nltk_data]    |   Unzipping corpora/movie_reviews.zip.\n",
      "[nltk_data]    | Downloading package mte_teip5 to\n",
      "[nltk_data]    |     /home/amalsn/nltk_data...\n",
      "[nltk_data]    |   Unzipping corpora/mte_teip5.zip.\n",
      "[nltk_data]    | Downloading package mwa_ppdb to\n",
      "[nltk_data]    |     /home/amalsn/nltk_data...\n",
      "[nltk_data]    |   Unzipping misc/mwa_ppdb.zip.\n",
      "[nltk_data]    | Downloading package names to\n",
      "[nltk_data]    |     /home/amalsn/nltk_data...\n",
      "[nltk_data]    |   Unzipping corpora/names.zip.\n",
      "[nltk_data]    | Downloading package nombank.1.0 to\n",
      "[nltk_data]    |     /home/amalsn/nltk_data...\n",
      "[nltk_data]    | Downloading package nonbreaking_prefixes to\n",
      "[nltk_data]    |     /home/amalsn/nltk_data...\n",
      "[nltk_data]    |   Unzipping corpora/nonbreaking_prefixes.zip.\n",
      "[nltk_data]    | Downloading package nps_chat to\n",
      "[nltk_data]    |     /home/amalsn/nltk_data...\n",
      "[nltk_data]    |   Unzipping corpora/nps_chat.zip.\n",
      "[nltk_data]    | Downloading package omw to /home/amalsn/nltk_data...\n",
      "[nltk_data]    | Downloading package omw-1.4 to\n",
      "[nltk_data]    |     /home/amalsn/nltk_data...\n",
      "[nltk_data]    | Downloading package opinion_lexicon to\n",
      "[nltk_data]    |     /home/amalsn/nltk_data...\n",
      "[nltk_data]    |   Unzipping corpora/opinion_lexicon.zip.\n",
      "[nltk_data]    | Downloading package panlex_swadesh to\n",
      "[nltk_data]    |     /home/amalsn/nltk_data...\n",
      "[nltk_data]    | Downloading package paradigms to\n",
      "[nltk_data]    |     /home/amalsn/nltk_data...\n",
      "[nltk_data]    |   Unzipping corpora/paradigms.zip.\n",
      "[nltk_data]    | Downloading package pe08 to /home/amalsn/nltk_data...\n",
      "[nltk_data]    |   Unzipping corpora/pe08.zip.\n",
      "[nltk_data]    | Downloading package perluniprops to\n",
      "[nltk_data]    |     /home/amalsn/nltk_data...\n",
      "[nltk_data]    |   Unzipping misc/perluniprops.zip.\n",
      "[nltk_data]    | Downloading package pil to /home/amalsn/nltk_data...\n",
      "[nltk_data]    |   Unzipping corpora/pil.zip.\n",
      "[nltk_data]    | Downloading package pl196x to\n",
      "[nltk_data]    |     /home/amalsn/nltk_data...\n",
      "[nltk_data]    |   Unzipping corpora/pl196x.zip.\n",
      "[nltk_data]    | Downloading package porter_test to\n",
      "[nltk_data]    |     /home/amalsn/nltk_data...\n",
      "[nltk_data]    |   Unzipping stemmers/porter_test.zip.\n",
      "[nltk_data]    | Downloading package ppattach to\n",
      "[nltk_data]    |     /home/amalsn/nltk_data...\n",
      "[nltk_data]    |   Unzipping corpora/ppattach.zip.\n",
      "[nltk_data]    | Downloading package problem_reports to\n",
      "[nltk_data]    |     /home/amalsn/nltk_data...\n",
      "[nltk_data]    |   Unzipping corpora/problem_reports.zip.\n",
      "[nltk_data]    | Downloading package product_reviews_1 to\n",
      "[nltk_data]    |     /home/amalsn/nltk_data...\n",
      "[nltk_data]    |   Unzipping corpora/product_reviews_1.zip.\n",
      "[nltk_data]    | Downloading package product_reviews_2 to\n",
      "[nltk_data]    |     /home/amalsn/nltk_data...\n",
      "[nltk_data]    |   Unzipping corpora/product_reviews_2.zip.\n",
      "[nltk_data]    | Downloading package propbank to\n",
      "[nltk_data]    |     /home/amalsn/nltk_data...\n",
      "[nltk_data]    | Downloading package pros_cons to\n",
      "[nltk_data]    |     /home/amalsn/nltk_data...\n",
      "[nltk_data]    |   Unzipping corpora/pros_cons.zip.\n",
      "[nltk_data]    | Downloading package ptb to /home/amalsn/nltk_data...\n",
      "[nltk_data]    |   Unzipping corpora/ptb.zip.\n",
      "[nltk_data]    | Downloading package punkt to\n",
      "[nltk_data]    |     /home/amalsn/nltk_data...\n",
      "[nltk_data]    |   Unzipping tokenizers/punkt.zip.\n",
      "[nltk_data]    | Downloading package punkt_tab to\n",
      "[nltk_data]    |     /home/amalsn/nltk_data...\n",
      "[nltk_data]    |   Unzipping tokenizers/punkt_tab.zip.\n",
      "[nltk_data]    | Downloading package qc to /home/amalsn/nltk_data...\n",
      "[nltk_data]    |   Unzipping corpora/qc.zip.\n",
      "[nltk_data]    | Downloading package reuters to\n",
      "[nltk_data]    |     /home/amalsn/nltk_data...\n",
      "[nltk_data]    | Downloading package rslp to /home/amalsn/nltk_data...\n",
      "[nltk_data]    |   Unzipping stemmers/rslp.zip.\n",
      "[nltk_data]    | Downloading package rte to /home/amalsn/nltk_data...\n",
      "[nltk_data]    |   Unzipping corpora/rte.zip.\n",
      "[nltk_data]    | Downloading package sample_grammars to\n",
      "[nltk_data]    |     /home/amalsn/nltk_data...\n",
      "[nltk_data]    |   Unzipping grammars/sample_grammars.zip.\n",
      "[nltk_data]    | Downloading package semcor to\n",
      "[nltk_data]    |     /home/amalsn/nltk_data...\n",
      "[nltk_data]    | Downloading package senseval to\n",
      "[nltk_data]    |     /home/amalsn/nltk_data...\n",
      "[nltk_data]    |   Unzipping corpora/senseval.zip.\n",
      "[nltk_data]    | Downloading package sentence_polarity to\n",
      "[nltk_data]    |     /home/amalsn/nltk_data...\n",
      "[nltk_data]    |   Unzipping corpora/sentence_polarity.zip.\n",
      "[nltk_data]    | Downloading package sentiwordnet to\n",
      "[nltk_data]    |     /home/amalsn/nltk_data...\n",
      "[nltk_data]    |   Unzipping corpora/sentiwordnet.zip.\n",
      "[nltk_data]    | Downloading package shakespeare to\n",
      "[nltk_data]    |     /home/amalsn/nltk_data...\n",
      "[nltk_data]    |   Unzipping corpora/shakespeare.zip.\n",
      "[nltk_data]    | Downloading package sinica_treebank to\n",
      "[nltk_data]    |     /home/amalsn/nltk_data...\n",
      "[nltk_data]    |   Unzipping corpora/sinica_treebank.zip.\n",
      "[nltk_data]    | Downloading package smultron to\n",
      "[nltk_data]    |     /home/amalsn/nltk_data...\n",
      "[nltk_data]    |   Unzipping corpora/smultron.zip.\n",
      "[nltk_data]    | Downloading package snowball_data to\n",
      "[nltk_data]    |     /home/amalsn/nltk_data...\n",
      "[nltk_data]    | Downloading package spanish_grammars to\n",
      "[nltk_data]    |     /home/amalsn/nltk_data...\n",
      "[nltk_data]    |   Unzipping grammars/spanish_grammars.zip.\n",
      "[nltk_data]    | Downloading package state_union to\n",
      "[nltk_data]    |     /home/amalsn/nltk_data...\n",
      "[nltk_data]    |   Unzipping corpora/state_union.zip.\n",
      "[nltk_data]    | Downloading package stopwords to\n",
      "[nltk_data]    |     /home/amalsn/nltk_data...\n",
      "[nltk_data]    |   Unzipping corpora/stopwords.zip.\n",
      "[nltk_data]    | Downloading package subjectivity to\n",
      "[nltk_data]    |     /home/amalsn/nltk_data...\n",
      "[nltk_data]    |   Unzipping corpora/subjectivity.zip.\n",
      "[nltk_data]    | Downloading package swadesh to\n",
      "[nltk_data]    |     /home/amalsn/nltk_data...\n",
      "[nltk_data]    |   Unzipping corpora/swadesh.zip.\n",
      "[nltk_data]    | Downloading package switchboard to\n",
      "[nltk_data]    |     /home/amalsn/nltk_data...\n",
      "[nltk_data]    |   Unzipping corpora/switchboard.zip.\n",
      "[nltk_data]    | Downloading package tagsets to\n",
      "[nltk_data]    |     /home/amalsn/nltk_data...\n",
      "[nltk_data]    |   Unzipping help/tagsets.zip.\n",
      "[nltk_data]    | Downloading package tagsets_json to\n",
      "[nltk_data]    |     /home/amalsn/nltk_data...\n",
      "[nltk_data]    |   Unzipping help/tagsets_json.zip.\n",
      "[nltk_data]    | Downloading package timit to\n",
      "[nltk_data]    |     /home/amalsn/nltk_data...\n",
      "[nltk_data]    |   Unzipping corpora/timit.zip.\n",
      "[nltk_data]    | Downloading package toolbox to\n",
      "[nltk_data]    |     /home/amalsn/nltk_data...\n",
      "[nltk_data]    |   Unzipping corpora/toolbox.zip.\n",
      "[nltk_data]    | Downloading package treebank to\n",
      "[nltk_data]    |     /home/amalsn/nltk_data...\n",
      "[nltk_data]    |   Unzipping corpora/treebank.zip.\n",
      "[nltk_data]    | Downloading package twitter_samples to\n",
      "[nltk_data]    |     /home/amalsn/nltk_data...\n",
      "[nltk_data]    |   Unzipping corpora/twitter_samples.zip.\n",
      "[nltk_data]    | Downloading package udhr to /home/amalsn/nltk_data...\n",
      "[nltk_data]    |   Unzipping corpora/udhr.zip.\n",
      "[nltk_data]    | Downloading package udhr2 to\n",
      "[nltk_data]    |     /home/amalsn/nltk_data...\n",
      "[nltk_data]    |   Unzipping corpora/udhr2.zip.\n",
      "[nltk_data]    | Downloading package unicode_samples to\n",
      "[nltk_data]    |     /home/amalsn/nltk_data...\n",
      "[nltk_data]    |   Unzipping corpora/unicode_samples.zip.\n",
      "[nltk_data]    | Downloading package universal_tagset to\n",
      "[nltk_data]    |     /home/amalsn/nltk_data...\n",
      "[nltk_data]    |   Unzipping taggers/universal_tagset.zip.\n",
      "[nltk_data]    | Downloading package universal_treebanks_v20 to\n",
      "[nltk_data]    |     /home/amalsn/nltk_data...\n",
      "[nltk_data]    | Downloading package vader_lexicon to\n",
      "[nltk_data]    |     /home/amalsn/nltk_data...\n",
      "[nltk_data]    | Downloading package verbnet to\n",
      "[nltk_data]    |     /home/amalsn/nltk_data...\n",
      "[nltk_data]    |   Unzipping corpora/verbnet.zip.\n",
      "[nltk_data]    | Downloading package verbnet3 to\n",
      "[nltk_data]    |     /home/amalsn/nltk_data...\n",
      "[nltk_data]    |   Unzipping corpora/verbnet3.zip.\n",
      "[nltk_data]    | Downloading package webtext to\n",
      "[nltk_data]    |     /home/amalsn/nltk_data...\n",
      "[nltk_data]    |   Unzipping corpora/webtext.zip.\n",
      "[nltk_data]    | Downloading package wmt15_eval to\n",
      "[nltk_data]    |     /home/amalsn/nltk_data...\n",
      "[nltk_data]    |   Unzipping models/wmt15_eval.zip.\n",
      "[nltk_data]    | Downloading package word2vec_sample to\n",
      "[nltk_data]    |     /home/amalsn/nltk_data...\n",
      "[nltk_data]    |   Unzipping models/word2vec_sample.zip.\n",
      "[nltk_data]    | Downloading package wordnet to\n",
      "[nltk_data]    |     /home/amalsn/nltk_data...\n",
      "[nltk_data]    | Downloading package wordnet2021 to\n",
      "[nltk_data]    |     /home/amalsn/nltk_data...\n",
      "[nltk_data]    | Downloading package wordnet2022 to\n",
      "[nltk_data]    |     /home/amalsn/nltk_data...\n",
      "[nltk_data]    |   Unzipping corpora/wordnet2022.zip.\n",
      "[nltk_data]    | Downloading package wordnet31 to\n",
      "[nltk_data]    |     /home/amalsn/nltk_data...\n",
      "[nltk_data]    | Downloading package wordnet_ic to\n",
      "[nltk_data]    |     /home/amalsn/nltk_data...\n",
      "[nltk_data]    |   Unzipping corpora/wordnet_ic.zip.\n",
      "[nltk_data]    | Downloading package words to\n",
      "[nltk_data]    |     /home/amalsn/nltk_data...\n",
      "[nltk_data]    |   Unzipping corpora/words.zip.\n",
      "[nltk_data]    | Downloading package ycoe to /home/amalsn/nltk_data...\n",
      "[nltk_data]    |   Unzipping corpora/ycoe.zip.\n",
      "[nltk_data]    | \n",
      "[nltk_data]  Done downloading collection all\n"
     ]
    },
    {
     "data": {
      "text/plain": [
       "True"
      ]
     },
     "execution_count": 3,
     "metadata": {},
     "output_type": "execute_result"
    }
   ],
   "source": [
    "nltk.download('all')\n"
   ]
  },
  {
   "cell_type": "markdown",
   "metadata": {
    "id": "DzkhFeRQ45nH"
   },
   "source": [
    "# 1. Loading and Preprocessing FakeNewsNet Dataset\n"
   ]
  },
  {
   "cell_type": "code",
   "execution_count": 5,
   "metadata": {
    "colab": {
     "base_uri": "https://localhost:8080/"
    },
    "id": "XjrclRZ14u1c",
    "outputId": "e548c6d6-5a7e-4ceb-9eb7-bc1f670486c5"
   },
   "outputs": [
    {
     "name": "stdout",
     "output_type": "stream",
     "text": [
      "Politifact Fake shape: (432, 4)\n",
      "Politifact Real shape: (624, 4)\n",
      "GossipCop Fake shape: (5323, 4)\n",
      "GossipCop Real shape: (16817, 4)\n"
     ]
    }
   ],
   "source": [
    "# Load FakeNewsNet dataset\n",
    "\n",
    "#!unzip FakeNewsNet-master.zip\n",
    "\n",
    "df_politifact_fake = pd.read_csv(\"politifact_fake.csv\")\n",
    "df_politifact_real = pd.read_csv(\"politifact_real.csv\")\n",
    "df_gossipcop_fake  = pd.read_csv(\"gossipcop_fake.csv\")\n",
    "df_gossipcop_real  = pd.read_csv(\"gossipcop_real.csv\")\n",
    "\n",
    "print(\"Politifact Fake shape:\", df_politifact_fake.shape)\n",
    "print(\"Politifact Real shape:\", df_politifact_real.shape)\n",
    "print(\"GossipCop Fake shape:\", df_gossipcop_fake.shape)\n",
    "print(\"GossipCop Real shape:\", df_gossipcop_real.shape)\n",
    "\n"
   ]
  },
  {
   "cell_type": "code",
   "execution_count": 6,
   "metadata": {
    "colab": {
     "base_uri": "https://localhost:8080/"
    },
    "id": "HKLydDTu4uy2",
    "outputId": "9e646431-bf72-4016-ee8d-488fff19bdac"
   },
   "outputs": [
    {
     "name": "stdout",
     "output_type": "stream",
     "text": [
      "                id                                           news_url  \\\n",
      "0  politifact15014          speedtalk.com/forum/viewtopic.php?t=51650   \n",
      "1  politifact15156  politics2020.info/index.php/2018/03/13/court-o...   \n",
      "2  politifact14745  www.nscdscamps.org/blog/category/parenting/467...   \n",
      "3  politifact14355  https://howafrica.com/oscar-pistorius-attempts...   \n",
      "4  politifact15371  http://washingtonsources.org/trump-votes-for-d...   \n",
      "\n",
      "                                               title  \\\n",
      "0  BREAKING: First NFL Team Declares Bankruptcy O...   \n",
      "1  Court Orders Obama To Pay $400 Million In Rest...   \n",
      "2  UPDATE: Second Roy Moore Accuser Works For Mic...   \n",
      "3         Oscar Pistorius Attempts To Commit Suicide   \n",
      "4        Trump Votes For Death Penalty For Being Gay   \n",
      "\n",
      "                                           tweet_ids  \n",
      "0  937349434668498944\\t937379378006282240\\t937380...  \n",
      "1  972666281441878016\\t972678396575559680\\t972827...  \n",
      "2  929405740732870656\\t929439450400264192\\t929439...  \n",
      "3  886941526458347521\\t887011300278194176\\t887023...  \n",
      "4  915205698212040704\\t915242076681506816\\t915249...  \n",
      "                id                                           news_url  \\\n",
      "0  politifact14984                          http://www.nfib-sbet.org/   \n",
      "1  politifact12944  http://www.cq.com/doc/newsmakertranscripts-494...   \n",
      "2    politifact333  https://web.archive.org/web/20080204072132/htt...   \n",
      "3   politifact4358  https://web.archive.org/web/20110811143753/htt...   \n",
      "4    politifact779  https://web.archive.org/web/20070820164107/htt...   \n",
      "\n",
      "                                               title  \\\n",
      "0        National Federation of Independent Business   \n",
      "1                        comments in Fayetteville NC   \n",
      "2  Romney makes pitch, hoping to close deal : Ele...   \n",
      "3  Democratic Leaders Say House Democrats Are Uni...   \n",
      "4    Budget of the United States Government, FY 2008   \n",
      "\n",
      "                                           tweet_ids  \n",
      "0  967132259869487105\\t967164368768196609\\t967215...  \n",
      "1  942953459\\t8980098198\\t16253717352\\t1668513250...  \n",
      "2                                                NaN  \n",
      "3                                                NaN  \n",
      "4  89804710374154240\\t91270460595109888\\t96039619...  \n",
      "                     id                                           news_url  \\\n",
      "0  gossipcop-2493749932  www.dailymail.co.uk/tvshowbiz/article-5874213/...   \n",
      "1  gossipcop-4580247171  hollywoodlife.com/2018/05/05/paris-jackson-car...   \n",
      "2   gossipcop-941805037  variety.com/2017/biz/news/tax-march-donald-tru...   \n",
      "3  gossipcop-2547891536  www.dailymail.co.uk/femail/article-3499192/Do-...   \n",
      "4  gossipcop-5476631226  variety.com/2018/film/news/list-2018-oscar-nom...   \n",
      "\n",
      "                                               title  \\\n",
      "0  Did Miley Cyrus and Liam Hemsworth secretly ge...   \n",
      "1  Paris Jackson & Cara Delevingne Enjoy Night Ou...   \n",
      "2  Celebrities Join Tax March in Protest of Donal...   \n",
      "3  Cindy Crawford's daughter Kaia Gerber wears a ...   \n",
      "4      Full List of 2018 Oscar Nominations – Variety   \n",
      "\n",
      "                                           tweet_ids  \n",
      "0  284329075902926848\\t284332744559968256\\t284335...  \n",
      "1  992895508267130880\\t992897935418503169\\t992899...  \n",
      "2  853359353532829696\\t853359576543920128\\t853359...  \n",
      "3  988821905196158981\\t988824206556172288\\t988825...  \n",
      "4  955792793632432131\\t955795063925301249\\t955798...  \n",
      "                 id                                           news_url  \\\n",
      "0  gossipcop-882573  https://www.brides.com/story/teen-mom-jenelle-...   \n",
      "1  gossipcop-875924  https://www.dailymail.co.uk/tvshowbiz/article-...   \n",
      "2  gossipcop-894416        https://en.wikipedia.org/wiki/Quinn_Perkins   \n",
      "3  gossipcop-857248  https://www.refinery29.com/en-us/2018/03/19192...   \n",
      "4  gossipcop-884684  https://www.cnn.com/2017/10/04/entertainment/c...   \n",
      "\n",
      "                                               title  \\\n",
      "0  Teen Mom Star Jenelle Evans' Wedding Dress Is ...   \n",
      "1  Kylie Jenner refusing to discuss Tyga on Life ...   \n",
      "2                                      Quinn Perkins   \n",
      "3  I Tried Kim Kardashian's Butt Workout & Am For...   \n",
      "4  Celine Dion donates concert proceeds to Vegas ...   \n",
      "\n",
      "                                           tweet_ids  \n",
      "0  912371411146149888\\t912371528343408641\\t912372...  \n",
      "1  901989917546426369\\t901989992074969089\\t901990...  \n",
      "2  931263637246881792\\t931265332022579201\\t931265...  \n",
      "3  868114761723936769\\t868122567910936576\\t868128...  \n",
      "4  915528047004209152\\t915529285171122176\\t915530...  \n"
     ]
    }
   ],
   "source": [
    "# Display dataset sample\n",
    "print(df_politifact_fake.head())\n",
    "print(df_politifact_real.head())\n",
    "print(df_gossipcop_fake.head())\n",
    "print(df_gossipcop_real.head())\n"
   ]
  },
  {
   "cell_type": "code",
   "execution_count": 7,
   "metadata": {
    "colab": {
     "base_uri": "https://localhost:8080/"
    },
    "id": "L2lekiOA4uwK",
    "outputId": "b6ccd27c-37fa-47c1-fe05-b3135edfd6d9"
   },
   "outputs": [
    {
     "name": "stdout",
     "output_type": "stream",
     "text": [
      "Combined FakeNewsNet shape: (23196, 5)\n"
     ]
    }
   ],
   "source": [
    "df_politifact_fake['label'] = 0\n",
    "df_politifact_real['label'] = 1\n",
    "df_gossipcop_fake['label'] = 0\n",
    "df_gossipcop_real['label'] = 1\n",
    "\n",
    "# Concatenate them all\n",
    "fakenews_df = pd.concat([\n",
    "    df_politifact_fake,\n",
    "    df_politifact_real,\n",
    "    df_gossipcop_fake,\n",
    "    df_gossipcop_real\n",
    "], ignore_index=True)\n",
    "\n",
    "print(\"Combined FakeNewsNet shape:\", fakenews_df.shape)\n"
   ]
  },
  {
   "cell_type": "code",
   "execution_count": 8,
   "metadata": {
    "colab": {
     "base_uri": "https://localhost:8080/",
     "height": 206
    },
    "id": "5Ru6Ym3-4utd",
    "outputId": "7b148fd9-e76f-44f4-bef7-291d5797a912"
   },
   "outputs": [
    {
     "data": {
      "text/html": [
       "<div>\n",
       "<style scoped>\n",
       "    .dataframe tbody tr th:only-of-type {\n",
       "        vertical-align: middle;\n",
       "    }\n",
       "\n",
       "    .dataframe tbody tr th {\n",
       "        vertical-align: top;\n",
       "    }\n",
       "\n",
       "    .dataframe thead th {\n",
       "        text-align: right;\n",
       "    }\n",
       "</style>\n",
       "<table border=\"1\" class=\"dataframe\">\n",
       "  <thead>\n",
       "    <tr style=\"text-align: right;\">\n",
       "      <th></th>\n",
       "      <th>id</th>\n",
       "      <th>news_url</th>\n",
       "      <th>title</th>\n",
       "      <th>tweet_ids</th>\n",
       "      <th>label</th>\n",
       "    </tr>\n",
       "  </thead>\n",
       "  <tbody>\n",
       "    <tr>\n",
       "      <th>0</th>\n",
       "      <td>politifact15014</td>\n",
       "      <td>speedtalk.com/forum/viewtopic.php?t=51650</td>\n",
       "      <td>BREAKING: First NFL Team Declares Bankruptcy O...</td>\n",
       "      <td>937349434668498944\\t937379378006282240\\t937380...</td>\n",
       "      <td>0</td>\n",
       "    </tr>\n",
       "    <tr>\n",
       "      <th>1</th>\n",
       "      <td>politifact15156</td>\n",
       "      <td>politics2020.info/index.php/2018/03/13/court-o...</td>\n",
       "      <td>Court Orders Obama To Pay $400 Million In Rest...</td>\n",
       "      <td>972666281441878016\\t972678396575559680\\t972827...</td>\n",
       "      <td>0</td>\n",
       "    </tr>\n",
       "    <tr>\n",
       "      <th>2</th>\n",
       "      <td>politifact14745</td>\n",
       "      <td>www.nscdscamps.org/blog/category/parenting/467...</td>\n",
       "      <td>UPDATE: Second Roy Moore Accuser Works For Mic...</td>\n",
       "      <td>929405740732870656\\t929439450400264192\\t929439...</td>\n",
       "      <td>0</td>\n",
       "    </tr>\n",
       "    <tr>\n",
       "      <th>3</th>\n",
       "      <td>politifact14355</td>\n",
       "      <td>https://howafrica.com/oscar-pistorius-attempts...</td>\n",
       "      <td>Oscar Pistorius Attempts To Commit Suicide</td>\n",
       "      <td>886941526458347521\\t887011300278194176\\t887023...</td>\n",
       "      <td>0</td>\n",
       "    </tr>\n",
       "    <tr>\n",
       "      <th>4</th>\n",
       "      <td>politifact15371</td>\n",
       "      <td>http://washingtonsources.org/trump-votes-for-d...</td>\n",
       "      <td>Trump Votes For Death Penalty For Being Gay</td>\n",
       "      <td>915205698212040704\\t915242076681506816\\t915249...</td>\n",
       "      <td>0</td>\n",
       "    </tr>\n",
       "  </tbody>\n",
       "</table>\n",
       "</div>"
      ],
      "text/plain": [
       "                id                                           news_url  \\\n",
       "0  politifact15014          speedtalk.com/forum/viewtopic.php?t=51650   \n",
       "1  politifact15156  politics2020.info/index.php/2018/03/13/court-o...   \n",
       "2  politifact14745  www.nscdscamps.org/blog/category/parenting/467...   \n",
       "3  politifact14355  https://howafrica.com/oscar-pistorius-attempts...   \n",
       "4  politifact15371  http://washingtonsources.org/trump-votes-for-d...   \n",
       "\n",
       "                                               title  \\\n",
       "0  BREAKING: First NFL Team Declares Bankruptcy O...   \n",
       "1  Court Orders Obama To Pay $400 Million In Rest...   \n",
       "2  UPDATE: Second Roy Moore Accuser Works For Mic...   \n",
       "3         Oscar Pistorius Attempts To Commit Suicide   \n",
       "4        Trump Votes For Death Penalty For Being Gay   \n",
       "\n",
       "                                           tweet_ids  label  \n",
       "0  937349434668498944\\t937379378006282240\\t937380...      0  \n",
       "1  972666281441878016\\t972678396575559680\\t972827...      0  \n",
       "2  929405740732870656\\t929439450400264192\\t929439...      0  \n",
       "3  886941526458347521\\t887011300278194176\\t887023...      0  \n",
       "4  915205698212040704\\t915242076681506816\\t915249...      0  "
      ]
     },
     "execution_count": 8,
     "metadata": {},
     "output_type": "execute_result"
    }
   ],
   "source": [
    "fakenews_df.head()\n"
   ]
  },
  {
   "cell_type": "code",
   "execution_count": 9,
   "metadata": {
    "id": "U4-NOBk64uq7"
   },
   "outputs": [],
   "source": [
    "fakenews_df['title'] = fakenews_df['title'].fillna(\"\")\n",
    "\n",
    "def preprocess_text(text):\n",
    "    # 1. Lowercase\n",
    "    text = text.lower()\n",
    "\n",
    "    # 2. Remove punctuation or special characters\n",
    "    text = re.sub(r'[^\\w\\s]', '', text)\n",
    "\n",
    "    # 3. Tokenize\n",
    "    tokens = word_tokenize(text)\n",
    "\n",
    "    # 4. Remove stopwords\n",
    "    stop_words = set(stopwords.words('english'))\n",
    "    tokens = [word for word in tokens if word not in stop_words]\n",
    "\n",
    "    # 5. Lemmatize\n",
    "    lemmatizer = WordNetLemmatizer()\n",
    "    tokens = [lemmatizer.lemmatize(word) for word in tokens]\n",
    "\n",
    "    # 6. Rejoin tokens\n",
    "    cleaned_text = \" \".join(tokens)\n",
    "    return cleaned_text\n"
   ]
  },
  {
   "cell_type": "code",
   "execution_count": 10,
   "metadata": {
    "colab": {
     "base_uri": "https://localhost:8080/"
    },
    "id": "vDj2gigi4uou",
    "outputId": "14d148c7-9be7-4e60-9eb3-f3399fc7d913"
   },
   "outputs": [
    {
     "name": "stdout",
     "output_type": "stream",
     "text": [
      "Index(['id', 'news_url', 'title', 'tweet_ids', 'label'], dtype='object')\n"
     ]
    }
   ],
   "source": [
    "print(fakenews_df.columns)\n"
   ]
  },
  {
   "cell_type": "code",
   "execution_count": 11,
   "metadata": {
    "colab": {
     "base_uri": "https://localhost:8080/",
     "height": 206
    },
    "id": "6yre_sEL4umA",
    "outputId": "d8b456af-36bf-467e-f557-0bf3cb9996e4"
   },
   "outputs": [
    {
     "data": {
      "text/html": [
       "<div>\n",
       "<style scoped>\n",
       "    .dataframe tbody tr th:only-of-type {\n",
       "        vertical-align: middle;\n",
       "    }\n",
       "\n",
       "    .dataframe tbody tr th {\n",
       "        vertical-align: top;\n",
       "    }\n",
       "\n",
       "    .dataframe thead th {\n",
       "        text-align: right;\n",
       "    }\n",
       "</style>\n",
       "<table border=\"1\" class=\"dataframe\">\n",
       "  <thead>\n",
       "    <tr style=\"text-align: right;\">\n",
       "      <th></th>\n",
       "      <th>title</th>\n",
       "      <th>clean_title</th>\n",
       "      <th>label</th>\n",
       "    </tr>\n",
       "  </thead>\n",
       "  <tbody>\n",
       "    <tr>\n",
       "      <th>0</th>\n",
       "      <td>BREAKING: First NFL Team Declares Bankruptcy O...</td>\n",
       "      <td>breaking first nfl team declares bankruptcy kn...</td>\n",
       "      <td>0</td>\n",
       "    </tr>\n",
       "    <tr>\n",
       "      <th>1</th>\n",
       "      <td>Court Orders Obama To Pay $400 Million In Rest...</td>\n",
       "      <td>court order obama pay 400 million restitution</td>\n",
       "      <td>0</td>\n",
       "    </tr>\n",
       "    <tr>\n",
       "      <th>2</th>\n",
       "      <td>UPDATE: Second Roy Moore Accuser Works For Mic...</td>\n",
       "      <td>update second roy moore accuser work michelle ...</td>\n",
       "      <td>0</td>\n",
       "    </tr>\n",
       "    <tr>\n",
       "      <th>3</th>\n",
       "      <td>Oscar Pistorius Attempts To Commit Suicide</td>\n",
       "      <td>oscar pistorius attempt commit suicide</td>\n",
       "      <td>0</td>\n",
       "    </tr>\n",
       "    <tr>\n",
       "      <th>4</th>\n",
       "      <td>Trump Votes For Death Penalty For Being Gay</td>\n",
       "      <td>trump vote death penalty gay</td>\n",
       "      <td>0</td>\n",
       "    </tr>\n",
       "  </tbody>\n",
       "</table>\n",
       "</div>"
      ],
      "text/plain": [
       "                                               title  \\\n",
       "0  BREAKING: First NFL Team Declares Bankruptcy O...   \n",
       "1  Court Orders Obama To Pay $400 Million In Rest...   \n",
       "2  UPDATE: Second Roy Moore Accuser Works For Mic...   \n",
       "3         Oscar Pistorius Attempts To Commit Suicide   \n",
       "4        Trump Votes For Death Penalty For Being Gay   \n",
       "\n",
       "                                         clean_title  label  \n",
       "0  breaking first nfl team declares bankruptcy kn...      0  \n",
       "1      court order obama pay 400 million restitution      0  \n",
       "2  update second roy moore accuser work michelle ...      0  \n",
       "3             oscar pistorius attempt commit suicide      0  \n",
       "4                       trump vote death penalty gay      0  "
      ]
     },
     "execution_count": 11,
     "metadata": {},
     "output_type": "execute_result"
    }
   ],
   "source": [
    "fakenews_df['title'] = fakenews_df['title'].fillna('')\n",
    "\n",
    "# Create a new column with the cleaned text\n",
    "fakenews_df['clean_title'] = fakenews_df['title'].apply(preprocess_text)\n",
    "\n",
    "fakenews_df[['title', 'clean_title', 'label']].head()\n"
   ]
  },
  {
   "cell_type": "code",
   "execution_count": 12,
   "metadata": {
    "colab": {
     "base_uri": "https://localhost:8080/"
    },
    "id": "2SakPPev5dW7",
    "outputId": "5332f36f-c338-4f52-e4f4-492830c7326e"
   },
   "outputs": [
    {
     "name": "stdout",
     "output_type": "stream",
     "text": [
      "\n",
      "Saved cleaned fakenews dataset to 'cleaned_fakenews_df.csv'.\n"
     ]
    }
   ],
   "source": [
    "fakenews_df.to_csv(\"cleaned_fakenews_df.csv\", index=False)\n",
    "print(\"\\nSaved cleaned fakenews dataset to 'cleaned_fakenews_df.csv'.\")"
   ]
  },
  {
   "cell_type": "code",
   "execution_count": null,
   "metadata": {
    "id": "W5p819Q29oAt"
   },
   "outputs": [],
   "source": []
  },
  {
   "cell_type": "code",
   "execution_count": null,
   "metadata": {
    "id": "862xNZi39n6U"
   },
   "outputs": [],
   "source": []
  },
  {
   "cell_type": "code",
   "execution_count": null,
   "metadata": {
    "id": "Uu393_gt9nun"
   },
   "outputs": [],
   "source": []
  },
  {
   "cell_type": "markdown",
   "metadata": {
    "id": "BZ56DhWq5P7v"
   },
   "source": [
    "# 2. Loading and Preprocessing LIAR Dataset"
   ]
  },
  {
   "cell_type": "code",
   "execution_count": 13,
   "metadata": {
    "colab": {
     "base_uri": "https://localhost:8080/"
    },
    "id": "eEHuHxKw5cpc",
    "outputId": "cd23ff27-657d-4c6f-abb1-4aae212e5dd6"
   },
   "outputs": [
    {
     "name": "stdout",
     "output_type": "stream",
     "text": [
      "liar train shape: (10240, 14)\n",
      "liar test shape: (1267, 14)\n",
      "liar valid shape: (1284, 14)\n"
     ]
    }
   ],
   "source": [
    "# Load LIAR dataset\n",
    "\n",
    "# !unzip liar_dataset.zip\n",
    "\n",
    "liar_columns = [\n",
    "    \"id\", \"label\", \"statement\", \"subject\", \"speaker\", \"job_title\", \"state\",\n",
    "    \"party\", \"barely_true\", \"false\", \"half_true\", \"mostly_true\", \"pants_on_fire\", \"context\"\n",
    "]\n",
    "\n",
    "liar_train = pd.read_csv(\"train.tsv\", sep='\\t', names=liar_columns, header=None)\n",
    "liar_test = pd.read_csv(\"test.tsv\", sep='\\t', names=liar_columns, header=None)\n",
    "liar_valid = pd.read_csv(\"valid.tsv\", sep= '\\t', names=liar_columns, header = None)\n",
    "\n",
    "\n",
    "print(\"liar train shape:\", liar_train.shape)\n",
    "print(\"liar test shape:\", liar_test.shape)\n",
    "print( \"liar valid shape:\", liar_valid.shape)\n"
   ]
  },
  {
   "cell_type": "code",
   "execution_count": 14,
   "metadata": {
    "colab": {
     "base_uri": "https://localhost:8080/"
    },
    "id": "ghh5zs-P5cm1",
    "outputId": "680a9b57-a1f0-432d-ea35-b8a04cf7b573"
   },
   "outputs": [
    {
     "name": "stdout",
     "output_type": "stream",
     "text": [
      "           id        label                                          statement  \\\n",
      "0   2635.json        false  Says the Annies List political group supports ...   \n",
      "1  10540.json    half-true  When did the decline of coal start? It started...   \n",
      "2    324.json  mostly-true  Hillary Clinton agrees with John McCain \"by vo...   \n",
      "3   1123.json        false  Health care reform legislation is likely to ma...   \n",
      "4   9028.json    half-true  The economic turnaround started at the end of ...   \n",
      "\n",
      "                              subject         speaker             job_title  \\\n",
      "0                            abortion    dwayne-bohac  State representative   \n",
      "1  energy,history,job-accomplishments  scott-surovell        State delegate   \n",
      "2                      foreign-policy    barack-obama             President   \n",
      "3                         health-care    blog-posting                   NaN   \n",
      "4                        economy,jobs   charlie-crist                   NaN   \n",
      "\n",
      "      state       party  barely_true  false  half_true  mostly_true  \\\n",
      "0     Texas  republican          0.0    1.0        0.0          0.0   \n",
      "1  Virginia    democrat          0.0    0.0        1.0          1.0   \n",
      "2  Illinois    democrat         70.0   71.0      160.0        163.0   \n",
      "3       NaN        none          7.0   19.0        3.0          5.0   \n",
      "4   Florida    democrat         15.0    9.0       20.0         19.0   \n",
      "\n",
      "   pants_on_fire              context  \n",
      "0            0.0             a mailer  \n",
      "1            0.0      a floor speech.  \n",
      "2            9.0               Denver  \n",
      "3           44.0       a news release  \n",
      "4            2.0  an interview on CNN  \n",
      "           id       label                                          statement  \\\n",
      "0  11972.json        true  Building a wall on the U.S.-Mexico border will...   \n",
      "1  11685.json       false  Wisconsin is on pace to double the number of l...   \n",
      "2  11096.json       false  Says John McCain has done nothing to help the ...   \n",
      "3   5209.json   half-true  Suzanne Bonamici supports a plan that will cut...   \n",
      "4   9524.json  pants-fire  When asked by a reporter whether hes at the ce...   \n",
      "\n",
      "                                             subject  \\\n",
      "0                                        immigration   \n",
      "1                                               jobs   \n",
      "2                    military,veterans,voting-record   \n",
      "3  medicare,message-machine-2012,campaign-adverti...   \n",
      "4  campaign-finance,legal-issues,campaign-adverti...   \n",
      "\n",
      "                            speaker             job_title      state  \\\n",
      "0                        rick-perry              Governor      Texas   \n",
      "1                 katrina-shankland  State representative  Wisconsin   \n",
      "2                      donald-trump       President-Elect   New York   \n",
      "3                     rob-cornilles            consultant     Oregon   \n",
      "4  state-democratic-party-wisconsin                   NaN  Wisconsin   \n",
      "\n",
      "        party  barely_true  false  half_true  mostly_true  pants_on_fire  \\\n",
      "0  republican           30     30         42           23             18   \n",
      "1    democrat            2      1          0            0              0   \n",
      "2  republican           63    114         51           37             61   \n",
      "3  republican            1      1          3            1              1   \n",
      "4    democrat            5      7          2            2              7   \n",
      "\n",
      "                        context  \n",
      "0               Radio interview  \n",
      "1             a news conference  \n",
      "2  comments on ABC's This Week.  \n",
      "3                  a radio show  \n",
      "4                   a web video  \n"
     ]
    }
   ],
   "source": [
    "# Display dataset sample\n",
    "print(liar_train.head())\n",
    "print(liar_test.head())"
   ]
  },
  {
   "cell_type": "code",
   "execution_count": 15,
   "metadata": {
    "id": "kEV5ZJss5ckK"
   },
   "outputs": [],
   "source": [
    "# Fill missing statement/context with empty strings\n",
    "for col in [\"statement\", \"context\", \"subject\", \"party\", \"speaker\"]:\n",
    "    liar_train[col] = liar_train[col].fillna(\"\")\n",
    "\n",
    "# Map textual labels to binary: 1 = (true, mostly-true, half-true), 0 = (barely-true, false, pants-fire)\n",
    "label_mapping = {\n",
    "    \"true\": 1,\n",
    "    \"mostly-true\": 1,\n",
    "    \"half-true\": 1,\n",
    "    \"barely-true\": 0,\n",
    "    \"false\": 0,\n",
    "    \"pants-fire\": 0\n",
    "}\n",
    "\n",
    "liar_train['label'] = liar_train['label'].map(label_mapping)\n"
   ]
  },
  {
   "cell_type": "code",
   "execution_count": 16,
   "metadata": {
    "id": "OuDo8Gib8nFe"
   },
   "outputs": [],
   "source": [
    "def preprocess_text(text):\n",
    "    # 1. Lowercasing\n",
    "    text = text.lower()\n",
    "\n",
    "    # 2. Remove punctuation\n",
    "    text = re.sub(f\"[{string.punctuation}]\", \"\", text)\n",
    "\n",
    "    # 3. Tokenization\n",
    "    tokens = word_tokenize(text)\n",
    "\n",
    "    # 4. Remove stopwords\n",
    "    stop_words = set(stopwords.words('english'))\n",
    "    tokens = [word for word in tokens if word not in stop_words]\n",
    "\n",
    "    # 5. Lemmatization\n",
    "    lemmatizer = WordNetLemmatizer()\n",
    "    tokens = [lemmatizer.lemmatize(word) for word in tokens]\n",
    "\n",
    "    return \" \".join(tokens)"
   ]
  },
  {
   "cell_type": "code",
   "execution_count": 17,
   "metadata": {
    "id": "e2Re-akN5chW"
   },
   "outputs": [],
   "source": [
    "# Apply to \"statement\" and \"context\"\n",
    "liar_train['clean_statement'] = liar_train['statement'].apply(preprocess_text)\n",
    "liar_train['clean_context']   = liar_train['context'].apply(preprocess_text)\n",
    "\n"
   ]
  },
  {
   "cell_type": "code",
   "execution_count": 18,
   "metadata": {
    "colab": {
     "base_uri": "https://localhost:8080/"
    },
    "id": "MtEVRjd95cei",
    "outputId": "90723212-e339-4839-98da-72f3ce23627e"
   },
   "outputs": [
    {
     "name": "stdout",
     "output_type": "stream",
     "text": [
      "LIAR dataset shape: (10240, 38)\n",
      "           id  label                                          statement  \\\n",
      "0   2635.json      0  Says the Annies List political group supports ...   \n",
      "1  10540.json      1  When did the decline of coal start? It started...   \n",
      "2    324.json      1  Hillary Clinton agrees with John McCain \"by vo...   \n",
      "3   1123.json      0  Health care reform legislation is likely to ma...   \n",
      "4   9028.json      1  The economic turnaround started at the end of ...   \n",
      "\n",
      "                              subject  speaker             job_title  \\\n",
      "0                            abortion      815  State representative   \n",
      "1  energy,history,job-accomplishments     2492        State delegate   \n",
      "2                      foreign-policy      183             President   \n",
      "3                         health-care      273                   NaN   \n",
      "4                        economy,jobs      429                   NaN   \n",
      "\n",
      "      state  barely_true  false  half_true  ...  party_liberal-party-canada  \\\n",
      "0     Texas          0.0    1.0        0.0  ...                       False   \n",
      "1  Virginia          0.0    0.0        1.0  ...                       False   \n",
      "2  Illinois         70.0   71.0      160.0  ...                       False   \n",
      "3       NaN          7.0   19.0        3.0  ...                       False   \n",
      "4   Florida         15.0    9.0       20.0  ...                       False   \n",
      "\n",
      "   party_libertarian party_newsmaker party_none  \\\n",
      "0              False           False      False   \n",
      "1              False           False      False   \n",
      "2              False           False      False   \n",
      "3              False           False       True   \n",
      "4              False           False      False   \n",
      "\n",
      "  party_ocean-state-tea-party-action  party_organization  party_republican  \\\n",
      "0                              False               False              True   \n",
      "1                              False               False             False   \n",
      "2                              False               False             False   \n",
      "3                              False               False             False   \n",
      "4                              False               False             False   \n",
      "\n",
      "   party_state-official  party_talk-show-host  party_tea-party-member  \n",
      "0                 False                 False                   False  \n",
      "1                 False                 False                   False  \n",
      "2                 False                 False                   False  \n",
      "3                 False                 False                   False  \n",
      "4                 False                 False                   False  \n",
      "\n",
      "[5 rows x 38 columns]\n"
     ]
    }
   ],
   "source": [
    "from sklearn.preprocessing import LabelEncoder\n",
    "\n",
    "# ENCODE CATEGORICALS\n",
    "\n",
    "# 1) One-hot encode \"party\"\n",
    "liar_train = pd.get_dummies(liar_train, columns=['party'], drop_first=True)\n",
    "\n",
    "# 2) Label-encode \"speaker\" (turn speaker names into numeric IDs)\n",
    "encoder = LabelEncoder()\n",
    "liar_train['speaker'] = encoder.fit_transform(liar_train['speaker'].astype(str))\n",
    "\n",
    "# TF-IDF FOR \"subject\"\n",
    "vectorizer = TfidfVectorizer()\n",
    "subject_tfidf = vectorizer.fit_transform(liar_train['subject'])\n",
    "\n",
    "\n",
    "print(\"LIAR dataset shape:\", liar_train.shape)\n",
    "print(liar_train.head(5))\n",
    "\n"
   ]
  },
  {
   "cell_type": "code",
   "execution_count": 19,
   "metadata": {
    "colab": {
     "base_uri": "https://localhost:8080/"
    },
    "id": "Y1OVr8cp5cbT",
    "outputId": "7a7e06fb-74f1-4185-e2c6-e02291770ab3"
   },
   "outputs": [
    {
     "name": "stdout",
     "output_type": "stream",
     "text": [
      "\n",
      "Saved cleaned LIAR dataset to 'cleaned_liar_dataset.csv'.\n"
     ]
    }
   ],
   "source": [
    "liar_train.to_csv(\"cleaned_liar_dataset.csv\", index=False)\n",
    "print(\"\\nSaved cleaned LIAR dataset to 'cleaned_liar_dataset.csv'.\")"
   ]
  },
  {
   "cell_type": "markdown",
   "metadata": {
    "id": "3Mxohm6IXtA7"
   },
   "source": [
    "# 3. Train-Test Split"
   ]
  },
  {
   "cell_type": "code",
   "execution_count": 75,
   "metadata": {
    "id": "Y1pheetHXwRY"
   },
   "outputs": [],
   "source": [
    "from sklearn.model_selection import train_test_split\n",
    "from sklearn.feature_extraction.text import TfidfVectorizer\n",
    "from sklearn.linear_model import LogisticRegression\n",
    "from sklearn.naive_bayes import MultinomialNB\n",
    "from sklearn import svm\n",
    "from sklearn.metrics import accuracy_score, classification_report\n",
    "from sklearn.neural_network import MLPClassifier\n",
    "from scipy.sparse import hstack\n",
    "import pandas as pd\n",
    "import numpy as np\n",
    "from sklearn.metrics import confusion_matrix\n",
    "import seaborn as sns\n",
    "import matplotlib.pyplot as plt\n",
    "\n",
    "#For FakeNews\n",
    "# Load cleaned datasets\n",
    "fakenews_df = pd.read_csv(\"cleaned_fakenews_df.csv\")\n",
    "liar_train = pd.read_csv(\"cleaned_liar_dataset.csv\")\n",
    "\n",
    "# Ensure there are no NaN values in text columns\n",
    "fakenews_df['clean_title'] = fakenews_df['clean_title'].fillna('')\n",
    "liar_train['clean_statement'] = liar_train['clean_statement'].fillna('')\n",
    "liar_train['clean_context'] = liar_train['clean_context'].fillna('')\n",
    "\n",
    "# ------------------- Baseline Model for FakeNewsNet ------------------- #\n",
    "# Feature Extraction (TF-IDF on clean_title)\n",
    "vectorizer = TfidfVectorizer()\n",
    "X_fakenews = vectorizer.fit_transform(fakenews_df['clean_title'])\n",
    "y_fakenews = fakenews_df['label']\n",
    "\n",
    "# Train-Test Split\n",
    "X_train_fake, X_test_fake, y_train_fake, y_test_fake = train_test_split(X_fakenews, y_fakenews, test_size=0.2, random_state=42)\n",
    "\n",
    "#For LIAR\n",
    "\n",
    "vectorizer_statement = TfidfVectorizer()\n",
    "vectorizer_context = TfidfVectorizer()\n",
    "X_liar_statement = vectorizer_statement.fit_transform(liar_train['clean_statement'])\n",
    "X_liar_context = vectorizer_context.fit_transform(liar_train['clean_context'])\n",
    "X_liar = hstack([X_liar_statement, X_liar_context])\n",
    "y_liar = liar_train['label']\n",
    "\n",
    "# Train-Test Split\n",
    "X_train_liar, X_test_liar, y_train_liar, y_test_liar = train_test_split(X_liar, y_liar, test_size=0.2, random_state=42)"
   ]
  },
  {
   "cell_type": "markdown",
   "metadata": {
    "id": "TCHv8EIUWk1o"
   },
   "source": [
    "# 4. Baseline and Deep Learning Model Implementations"
   ]
  },
  {
   "cell_type": "code",
   "execution_count": 83,
   "metadata": {
    "colab": {
     "base_uri": "https://localhost:8080/"
    },
    "id": "H8FSXDm7966B",
    "outputId": "b6446d34-ebf9-4723-cada-0178909bfd05"
   },
   "outputs": [
    {
     "name": "stdout",
     "output_type": "stream",
     "text": [
      "Logistic Regression Accuracy (FakeNewsNet): 0.8387931034482758\n",
      "              precision    recall  f1-score   support\n",
      "\n",
      "           0       0.82      0.46      0.59      1166\n",
      "           1       0.84      0.97      0.90      3474\n",
      "\n",
      "    accuracy                           0.84      4640\n",
      "   macro avg       0.83      0.71      0.74      4640\n",
      "weighted avg       0.84      0.84      0.82      4640\n",
      "\n",
      "Logistic Regression Accuracy (LIAR Dataset): 0.609375\n",
      "              precision    recall  f1-score   support\n",
      "\n",
      "           0       0.56      0.44      0.50       888\n",
      "           1       0.63      0.74      0.68      1160\n",
      "\n",
      "    accuracy                           0.61      2048\n",
      "   macro avg       0.60      0.59      0.59      2048\n",
      "weighted avg       0.60      0.61      0.60      2048\n",
      "\n"
     ]
    }
   ],
   "source": [
    "## LOGISTIC REGRESSION MODEL ##\n",
    "# FakeNews\n",
    "lr_model1 = LogisticRegression()\n",
    "lr_model1.fit(X_train_fake, y_train_fake)\n",
    "y_pred_lr1 = lr_model1.predict(X_test_fake)\n",
    "print(\"Logistic Regression Accuracy (FakeNewsNet):\", accuracy_score(y_test_fake, y_pred_lr1))\n",
    "print(classification_report(y_test_fake, y_pred_lr1))\n",
    "\n",
    "#LIAR\n",
    "\n",
    "lr_model2 = LogisticRegression()\n",
    "lr_model2.fit(X_train_liar, y_train_liar)\n",
    "y_pred_lr2 = lr_model2.predict(X_test_liar)\n",
    "print(\"Logistic Regression Accuracy (LIAR Dataset):\", accuracy_score(y_test_liar, y_pred_lr2))\n",
    "print(classification_report(y_test_liar, y_pred_lr2))"
   ]
  },
  {
   "cell_type": "code",
   "execution_count": 72,
   "metadata": {
    "colab": {
     "base_uri": "https://localhost:8080/"
    },
    "id": "5MFIdH95963K",
    "outputId": "94bdcc86-5208-44a3-816c-f294d96079ec"
   },
   "outputs": [
    {
     "name": "stdout",
     "output_type": "stream",
     "text": [
      "Naive Bayes Accuracy (FakeNewsNet): 0.8181034482758621\n",
      "              precision    recall  f1-score   support\n",
      "\n",
      "           0       0.88      0.32      0.47      1166\n",
      "           1       0.81      0.98      0.89      3474\n",
      "\n",
      "    accuracy                           0.82      4640\n",
      "   macro avg       0.84      0.65      0.68      4640\n",
      "weighted avg       0.83      0.82      0.78      4640\n",
      "\n",
      "Naive Bayes Accuracy (LIAR Dataset): 0.61376953125\n",
      "              precision    recall  f1-score   support\n",
      "\n",
      "           0       0.60      0.33      0.43       888\n",
      "           1       0.62      0.83      0.71      1160\n",
      "\n",
      "    accuracy                           0.61      2048\n",
      "   macro avg       0.61      0.58      0.57      2048\n",
      "weighted avg       0.61      0.61      0.59      2048\n",
      "\n"
     ]
    }
   ],
   "source": [
    "# Naïve Bayes Model\n",
    "\n",
    "#FakeNews\n",
    "nb_model1 = MultinomialNB()\n",
    "nb_model1.fit(X_train_fake, y_train_fake)\n",
    "y_pred_nb1 = nb_model1.predict(X_test_fake)\n",
    "print(\"Naive Bayes Accuracy (FakeNewsNet):\", accuracy_score(y_test_fake, y_pred_nb1))\n",
    "print(classification_report(y_test_fake, y_pred_nb1))\n",
    "\n",
    "#LIAR\n",
    "nb_model2 = MultinomialNB()\n",
    "nb_model2.fit(X_train_liar, y_train_liar)\n",
    "y_pred_nb2 = nb_model2.predict(X_test_liar)\n",
    "print(\"Naive Bayes Accuracy (LIAR Dataset):\", accuracy_score(y_test_liar, y_pred_nb2))\n",
    "print(classification_report(y_test_liar, y_pred_nb2))"
   ]
  },
  {
   "cell_type": "code",
   "execution_count": 101,
   "metadata": {},
   "outputs": [
    {
     "name": "stdout",
     "output_type": "stream",
     "text": [
      "Fully Connected network Accuracy (FakeNewsNet): 0.8422413793103448\n",
      "              precision    recall  f1-score   support\n",
      "\n",
      "           0       0.83      0.47      0.60      1166\n",
      "           1       0.84      0.97      0.90      3474\n",
      "\n",
      "    accuracy                           0.84      4640\n",
      "   macro avg       0.84      0.72      0.75      4640\n",
      "weighted avg       0.84      0.84      0.83      4640\n",
      "\n",
      "Fully Connected network Accuracy (LIAR): 0.61572265625\n",
      "              precision    recall  f1-score   support\n",
      "\n",
      "           0       0.59      0.36      0.45       888\n",
      "           1       0.62      0.81      0.71      1160\n",
      "\n",
      "    accuracy                           0.62      2048\n",
      "   macro avg       0.61      0.59      0.58      2048\n",
      "weighted avg       0.61      0.62      0.59      2048\n",
      "\n"
     ]
    }
   ],
   "source": [
    "# Support Vector machine\n",
    "\n",
    "#FakeNews\n",
    "svm_model1 = svm.SVC()\n",
    "svm_model1.fit(X_train_fake, y_train_fake)\n",
    "y_pred_svm1 = svm_model1.predict(X_test_fake)\n",
    "print(\"Fully Connected network Accuracy (FakeNewsNet):\", accuracy_score(y_test_fake, y_pred_svm1))\n",
    "print(classification_report(y_test_fake, y_pred_svm1))\n",
    "\n",
    "#LIAR\n",
    "svm_model2 = svm.SVC()\n",
    "svm_model2.fit(X_train_liar, y_train_liar)\n",
    "y_pred_svm2 = svm_model2.predict(X_test_liar)\n",
    "print(\"Fully Connected network Accuracy (LIAR):\", accuracy_score(y_test_liar, y_pred_svm2))\n",
    "print(classification_report(y_test_liar, y_pred_svm2))"
   ]
  },
  {
   "cell_type": "code",
   "execution_count": 104,
   "metadata": {
    "id": "jZDqh8W4960g"
   },
   "outputs": [
    {
     "name": "stderr",
     "output_type": "stream",
     "text": [
      "/home/amalsn/anaconda3/envs/asn/lib/python3.12/site-packages/sklearn/neural_network/_multilayer_perceptron.py:545: ConvergenceWarning: lbfgs failed to converge (status=1):\n",
      "STOP: TOTAL NO. of ITERATIONS REACHED LIMIT.\n",
      "\n",
      "Increase the number of iterations (max_iter) or scale the data as shown in:\n",
      "    https://scikit-learn.org/stable/modules/preprocessing.html\n",
      "  self.n_iter_ = _check_optimize_result(\"lbfgs\", opt_res, self.max_iter)\n"
     ]
    },
    {
     "name": "stdout",
     "output_type": "stream",
     "text": [
      "Fully Connected network Accuracy (FakeNewsNet): 0.8174568965517242\n",
      "              precision    recall  f1-score   support\n",
      "\n",
      "           0       0.64      0.62      0.63      1166\n",
      "           1       0.87      0.88      0.88      3474\n",
      "\n",
      "    accuracy                           0.82      4640\n",
      "   macro avg       0.76      0.75      0.75      4640\n",
      "weighted avg       0.82      0.82      0.82      4640\n",
      "\n",
      "Fully Connected network Accuracy (LIAR): 0.56298828125\n",
      "              precision    recall  f1-score   support\n",
      "\n",
      "           0       0.50      0.49      0.49       888\n",
      "           1       0.61      0.62      0.62      1160\n",
      "\n",
      "    accuracy                           0.56      2048\n",
      "   macro avg       0.55      0.55      0.55      2048\n",
      "weighted avg       0.56      0.56      0.56      2048\n",
      "\n"
     ]
    }
   ],
   "source": [
    "# Fully Connected model\n",
    "\n",
    "#FakeNews\n",
    "fc_model1 = MLPClassifier(solver='lbfgs', alpha=1e-5,hidden_layer_sizes=(64, 16), random_state=1, max_iter=1000)\n",
    "fc_model1.fit(X_train_fake, y_train_fake)\n",
    "y_pred_fc1 = fc_model1.predict(X_test_fake)\n",
    "print(\"Fully Connected network Accuracy (FakeNewsNet):\", accuracy_score(y_test_fake, y_pred_fc1))\n",
    "print(classification_report(y_test_fake, y_pred_fc1))\n",
    "\n",
    "#LIAR\n",
    "fc_model2 = MLPClassifier(solver='lbfgs', alpha=1e-5, hidden_layer_sizes=(64,16), random_state=1, max_iter=1000)\n",
    "fc_model2.fit(X_train_liar, y_train_liar)\n",
    "y_pred_fc2 = fc_model2.predict(X_test_liar)\n",
    "print(\"Fully Connected network Accuracy (LIAR):\", accuracy_score(y_test_liar, y_pred_fc2))\n",
    "print(classification_report(y_test_liar, y_pred_fc2, zero_division=0))"
   ]
  },
  {
   "cell_type": "code",
   "execution_count": 105,
   "metadata": {},
   "outputs": [
    {
     "data": {
      "image/png": "[encoded data removed]",
      "text/plain": [
       "<Figure size 1500x1500 with 8 Axes>"
      ]
     },
     "metadata": {},
     "output_type": "display_data"
    }
   ],
   "source": [
    "fig, axes = plt.subplots(2, 2, figsize=(15, 15))\n",
    "\n",
    "cm = confusion_matrix(y_test_fake, y_pred_lr1)\n",
    "sns.heatmap(cm, annot=True, fmt=\"d\", cmap=\"Blues\", xticklabels=[0,1], yticklabels=[0,1],ax=axes[0][0])\n",
    "axes[0][0].set_xlabel(\"Predicted Labels\")\n",
    "axes[0][0].set_ylabel(\"True Labels\")\n",
    "axes[0][0].set_title(\"Confusion Matrix for Logistic Regression (FakeNews Dataset)\")\n",
    "\n",
    "cm = confusion_matrix(y_test_fake, y_pred_nb1)\n",
    "sns.heatmap(cm, annot=True, fmt=\"d\", cmap=\"Blues\", xticklabels=[0,1], yticklabels=[0,1],ax=axes[0][1])\n",
    "axes[0][1].set_xlabel(\"Predicted Labels\")\n",
    "axes[0][1].set_ylabel(\"True Labels\")\n",
    "axes[0][1].set_title(\"Confusion Matrix for Naive Bayes (FakeNews Dataset)\")\n",
    "\n",
    "cm = confusion_matrix(y_test_fake, y_pred_svm1)\n",
    "sns.heatmap(cm, annot=True, fmt=\"d\", cmap=\"Blues\", xticklabels=[0,1], yticklabels=[0,1],ax=axes[1][0])\n",
    "axes[1][0].set_xlabel(\"Predicted Labels\")\n",
    "axes[1][0].set_ylabel(\"True Labels\")\n",
    "axes[1][0].set_title(\"Confusion Matrix for SVM (FakeNews Dataset)\")\n",
    "\n",
    "cm = confusion_matrix(y_test_fake, y_pred_fc1)\n",
    "sns.heatmap(cm, annot=True, fmt=\"d\", cmap=\"Blues\", xticklabels=[0,1], yticklabels=[0,1],ax=axes[1][1])\n",
    "axes[1][1].set_xlabel(\"Predicted Labels\")\n",
    "axes[1][1].set_ylabel(\"True Labels\")\n",
    "axes[1][1].set_title(\"Confusion Matrix for Fully Connected Network (FakeNews Dataset)\")\n",
    "plt.show()"
   ]
  },
  {
   "cell_type": "code",
   "execution_count": 106,
   "metadata": {},
   "outputs": [
    {
     "data": {
      "image/png": "[encoded data removed]",
      "text/plain": [
       "<Figure size 1500x1500 with 8 Axes>"
      ]
     },
     "metadata": {},
     "output_type": "display_data"
    }
   ],
   "source": [
    "fig, axes = plt.subplots(2, 2, figsize=(15, 15))\n",
    "\n",
    "cm = confusion_matrix(y_test_liar, y_pred_lr2)\n",
    "sns.heatmap(cm, annot=True, fmt=\"d\", cmap=\"Blues\", xticklabels=[0,1], yticklabels=[0,1],ax=axes[0][0])\n",
    "axes[0][0].set_xlabel(\"Predicted Labels\")\n",
    "axes[0][0].set_ylabel(\"True Labels\")\n",
    "axes[0][0].set_title(\"Confusion Matrix for Logistic Regression (LIAR Dataset)\")\n",
    "\n",
    "cm = confusion_matrix(y_test_liar, y_pred_nb2)\n",
    "sns.heatmap(cm, annot=True, fmt=\"d\", cmap=\"Blues\", xticklabels=[0,1], yticklabels=[0,1],ax=axes[0][1])\n",
    "axes[0][1].set_xlabel(\"Predicted Labels\")\n",
    "axes[0][1].set_ylabel(\"True Labels\")\n",
    "axes[0][1].set_title(\"Confusion Matrix for Naive Bayes (LIAR Dataset)\")\n",
    "\n",
    "cm = confusion_matrix(y_test_liar, y_pred_svm2)\n",
    "sns.heatmap(cm, annot=True, fmt=\"d\", cmap=\"Blues\", xticklabels=[0,1], yticklabels=[0,1],ax=axes[1][0])\n",
    "axes[1][0].set_xlabel(\"Predicted Labels\")\n",
    "axes[1][0].set_ylabel(\"True Labels\")\n",
    "axes[1][0].set_title(\"Confusion Matrix for SVM (LIAR Dataset)\")\n",
    "\n",
    "cm = confusion_matrix(y_test_liar, y_pred_fc2)\n",
    "sns.heatmap(cm, annot=True, fmt=\"d\", cmap=\"Blues\", xticklabels=[0,1], yticklabels=[0,1],ax=axes[1][1])\n",
    "axes[1][1].set_xlabel(\"Predicted Labels\")\n",
    "axes[1][1].set_ylabel(\"True Labels\")\n",
    "axes[1][1].set_title(\"Confusion Matrix for Fully Connected Network (LIAR Dataset)\")\n",
    "plt.show()"
   ]
  },
  {
   "cell_type": "code",
   "execution_count": null,
   "metadata": {},
   "outputs": [],
   "source": []
  }
 ],
 "metadata": {
  "colab": {
   "provenance": []
  },
  "kernelspec": {
   "display_name": "Python 3 (ipykernel)",
   "language": "python",
   "name": "python3"
  },
  "language_info": {
   "codemirror_mode": {
    "name": "ipython",
    "version": 3
   },
   "file_extension": ".py",
   "mimetype": "text/x-python",
   "name": "python",
   "nbconvert_exporter": "python",
   "pygments_lexer": "ipython3",
   "version": "3.10.16"
  }
 },
 "nbformat": 4,
 "nbformat_minor": 4
}
